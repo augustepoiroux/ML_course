{
 "cells": [
  {
   "cell_type": "code",
   "execution_count": 1,
   "metadata": {},
   "outputs": [],
   "source": [
    "# Useful starting lines\n",
    "%matplotlib inline\n",
    "\n",
    "import random\n",
    "from datetime import datetime\n",
    "\n",
    "import numpy as np\n",
    "import matplotlib.pyplot as plt\n",
    "from test_utils import test\n",
    "%load_ext autoreload\n",
    "%autoreload 2"
   ]
  },
  {
   "cell_type": "markdown",
   "metadata": {},
   "source": [
    "# Support Vector Machines\n",
    "## Classification Using SVM\n",
    "Load dataset. We will use a toy dataset from sklearn."
   ]
  },
  {
   "cell_type": "code",
   "execution_count": 2,
   "metadata": {},
   "outputs": [
    {
     "name": "stdout",
     "output_type": "stream",
     "text": [
      "(N, D) = (569, 31)\n"
     ]
    }
   ],
   "source": [
    "from sklearn import datasets\n",
    "\n",
    "#Load dataset\n",
    "sklearn_dataset = datasets.load_breast_cancer()\n",
    "Xx  = sklearn_dataset.data\n",
    "y = sklearn_dataset.target * 2 - 1    # labels must be in {-1, 1} for the hinge loss\n",
    "X = np.ones((Xx.shape[0], Xx.shape[1] + 1 ))   \n",
    "X[:, :-1] = Xx\n",
    "print(\"(N, D) =\", X.shape)"
   ]
  },
  {
   "cell_type": "markdown",
   "metadata": {},
   "source": [
    "## Prepare cost and prediction functions"
   ]
  },
  {
   "cell_type": "code",
   "execution_count": 26,
   "metadata": {},
   "outputs": [],
   "source": [
    "def calculate_primal_objective(y, X, w, lambda_):\n",
    "    \"\"\"compute the full cost (the primal objective, equation (1) in the exercise pdf),\n",
    "        that is loss plus regularizer.\n",
    "        \n",
    "    Args:\n",
    "        X: the full dataset matrix, shape = (num_examples, num_features)\n",
    "        y: the corresponding +1 or -1 labels, shape = (num_examples)\n",
    "        w: shape = (num_features)\n",
    "    \n",
    "    Returns:\n",
    "        scalar, non-negative\n",
    "        \n",
    "    >>> y_test = np.array([1, -1])\n",
    "    >>> x_test = np.array([[1, 2, 3], [4, 5, 6]])\n",
    "    >>> w_test = np.array([0, 1, 5])\n",
    "    >>> calculate_primal_objective(y_test, x_test, w_test, 1)\n",
    "    49.0\n",
    "    \"\"\"\n",
    "    return np.sum(np.maximum(0, 1-y * (X @ w))) + lambda_ / 2 * w.T @ w"
   ]
  },
  {
   "cell_type": "code",
   "execution_count": 28,
   "metadata": {},
   "outputs": [
    {
     "name": "stdout",
     "output_type": "stream",
     "text": [
      "✅ Your `calculate_primal_objective` passed 4 tests.\n"
     ]
    }
   ],
   "source": [
    "test(calculate_primal_objective)"
   ]
  },
  {
   "cell_type": "code",
   "execution_count": 31,
   "metadata": {},
   "outputs": [],
   "source": [
    "def calculate_accuracy(y, X, w):\n",
    "    \"\"\"compute the accuracy on the given dataset (X, y) using the model w.\n",
    "    \n",
    "    Args:\n",
    "        X: the full dataset matrix, shape = (num_examples, num_features)\n",
    "        y: the corresponding +1 or -1 labels, shape = (num_examples)\n",
    "        w: shape = (num_features)\n",
    "    \n",
    "    Returns:\n",
    "        scalar, between 0 and 1\n",
    "        \n",
    "    >>> y_test = np.array([1, -1])\n",
    "    >>> x_test = np.array([[1, 2, 3], [4, 5, 6]])\n",
    "    >>> w_test = np.array([0, 1, 5])\n",
    "    >>> calculate_accuracy(y_test, x_test, w_test)\n",
    "    0.5\n",
    "    \"\"\"\n",
    "    pred = X @ w\n",
    "    pred[pred < 0] = -1\n",
    "    pred[pred >= 0] = 1\n",
    "    return np.sum(pred == y) / len(y)"
   ]
  },
  {
   "cell_type": "code",
   "execution_count": 32,
   "metadata": {
    "scrolled": true
   },
   "outputs": [
    {
     "name": "stdout",
     "output_type": "stream",
     "text": [
      "✅ Your `calculate_accuracy` passed 4 tests.\n"
     ]
    }
   ],
   "source": [
    "test(calculate_accuracy)"
   ]
  },
  {
   "cell_type": "markdown",
   "metadata": {},
   "source": [
    "## Stochastic Gradient Descent for SVM"
   ]
  },
  {
   "cell_type": "markdown",
   "metadata": {},
   "source": [
    "Compute the (stochastic) subgradient for the n-th summand of the SVM optimization objective"
   ]
  },
  {
   "cell_type": "code",
   "execution_count": 41,
   "metadata": {},
   "outputs": [],
   "source": [
    "def calculate_stochastic_gradient(y, X, w, lambda_, n, num_examples):\n",
    "    \"\"\"compute the stochastic gradient of loss plus regularizer.\n",
    "    \n",
    "    Args:\n",
    "        X: the dataset matrix, shape = (num_examples, num_features)\n",
    "        y: the corresponding +1 or -1 labels, shape = (num_examples)\n",
    "        w: shape = (num_features)\n",
    "        lambda_: positive scalar number\n",
    "        n: the index of the (one) datapoint we have sampled\n",
    "        num_examples: N\n",
    "    \n",
    "    Returns:\n",
    "        numpy array, shape = (num_features)\n",
    "    \n",
    "    >>> y_test = np.array([1, -1])\n",
    "    >>> x_test = np.array([[1, 2, 3], [4, 5, 6]])\n",
    "    >>> w_test = np.array([0, 1, 5])\n",
    "    >>> calculate_stochastic_gradient(y_test, x_test, w_test, 1, 1, 2)\n",
    "    array([ 8, 11, 17])\n",
    "    \"\"\"\n",
    "    # Be careful about the constant N (size) term!\n",
    "    # The complete objective for SVM is a sum, not an average as in earlier SGD examples!\n",
    "\n",
    "    grad = lambda_ * w\n",
    "    x_n, y_n = X[n], y[n]\n",
    "    if 1 - y_n * x_n.T @ w > 0:\n",
    "        grad += num_examples * -y_n * x_n\n",
    "    \n",
    "    return grad\n"
   ]
  },
  {
   "cell_type": "code",
   "execution_count": 42,
   "metadata": {},
   "outputs": [
    {
     "name": "stdout",
     "output_type": "stream",
     "text": [
      "✅ Your `calculate_stochastic_gradient` passed 4 tests.\n"
     ]
    }
   ],
   "source": [
    "test(calculate_stochastic_gradient)"
   ]
  },
  {
   "cell_type": "markdown",
   "metadata": {},
   "source": [
    "Implement stochastic gradient descent: Pick a data point uniformly at random and update w based on the gradient for the n-th summand of the objective"
   ]
  },
  {
   "cell_type": "code",
   "execution_count": 43,
   "metadata": {},
   "outputs": [
    {
     "name": "stdout",
     "output_type": "stream",
     "text": [
      "iteration=0, cost=20808570.526844647\n",
      "iteration=20000, cost=238.20925791122792\n",
      "iteration=40000, cost=147.5698884111824\n",
      "iteration=60000, cost=191.14152149712902\n",
      "iteration=80000, cost=131.97491677913854\n",
      "iteration=100000, cost=127.7628536717259\n",
      "iteration=120000, cost=128.2848196535933\n",
      "iteration=140000, cost=126.08088892639279\n",
      "iteration=160000, cost=124.77013718178307\n",
      "iteration=180000, cost=133.12889614028242\n",
      "training accuracy = 0.9279437609841827\n"
     ]
    }
   ],
   "source": [
    "def sgd_for_svm_demo(y, X):\n",
    "    \n",
    "    max_iter = 2 * int(1e5)\n",
    "    gamma = 1e-4\n",
    "    lambda_ = int(1e4)   # big because scales with N due to the formulation of the problem (not an averaged loss)\n",
    "\n",
    "    num_examples, num_features = X.shape\n",
    "    w = np.zeros(num_features)\n",
    "    \n",
    "    for it in range(max_iter):\n",
    "        # n = sample one data point uniformly at random data from x\n",
    "        n = random.randint(0,num_examples-1)\n",
    "        \n",
    "        grad = calculate_stochastic_gradient(y, X, w, lambda_, n, num_examples)\n",
    "        w -= gamma / (it+1) * grad   \n",
    "        \n",
    "        if it % 20000 == 0:\n",
    "            cost = calculate_primal_objective(y, X, w, lambda_)\n",
    "            print(\"iteration={i}, cost={c}\".format(i=it, c=cost))\n",
    "            \n",
    "    print(\"training accuracy = {l}\".format(l=calculate_accuracy(y, X, w)))\n",
    "\n",
    "\n",
    "sgd_for_svm_demo(y, X)"
   ]
  },
  {
   "cell_type": "markdown",
   "metadata": {},
   "source": [
    "## Coordinate Descent (Ascent) for SVM"
   ]
  },
  {
   "cell_type": "markdown",
   "metadata": {},
   "source": [
    "Compute the closed-form update for the n-th variable alpha, in the dual optimization problem, given alpha and the current corresponding w"
   ]
  },
  {
   "cell_type": "code",
   "execution_count": 45,
   "metadata": {},
   "outputs": [],
   "source": [
    "def calculate_coordinate_update(y, X, lambda_, alpha, w, n):\n",
    "    \"\"\"compute a coordinate update (closed form) for coordinate n.\n",
    "    \n",
    "    Args:\n",
    "        y: the corresponding +1 or -1 labels, shape = (num_examples)\n",
    "        X: the dataset matrix, shape = (num_examples, num_features)\n",
    "        lambda_: positive scalar number\n",
    "        alpha: vector of dual coordinates, shape = (num_examples)\n",
    "        w: vector of primal parameters, shape = (num_features)\n",
    "        n: the coordinate to be updated\n",
    "        \n",
    "    Returns:\n",
    "        w: updated vector of primal parameters, shape = (num_features)\n",
    "        alpha: updated vector of dual parameters, shape = (num_examples)\n",
    "        \n",
    "    >>> y_test = np.array([1, -1])\n",
    "    >>> x_test = np.array([[1., 2., 3.], [4., 5., 6.]])\n",
    "    >>> w_test = np.array([-0.3, -0.3, -0.3])\n",
    "    >>> alpha_test = np.array([.1, .1])\n",
    "    >>> calculate_coordinate_update(y_test, x_test, 1, alpha_test, w_test, 0)\n",
    "    (array([-0.1,  0.1,  0.3]), array([0.3, 0.1]))\n",
    "    \"\"\"        \n",
    "    # calculate the update of coordinate at index=n.\n",
    "    x_n, y_n = X[n], y[n]\n",
    "    old_alpha_n = np.copy(alpha[n])\n",
    "    \n",
    "    gamma_0 = lambda_ * (1 - y_n * w.T @ x_n) / (x_n.T @ x_n)\n",
    "    gamma_opt = min(max(gamma_0 + old_alpha_n, 0), 1) - old_alpha_n\n",
    "\n",
    "    alpha[n] += gamma_opt\n",
    "    w = w + gamma_opt / lambda_ * y_n * x_n\n",
    "\n",
    "    return w, alpha"
   ]
  },
  {
   "cell_type": "code",
   "execution_count": 46,
   "metadata": {
    "scrolled": false
   },
   "outputs": [
    {
     "name": "stdout",
     "output_type": "stream",
     "text": [
      "✅ Your `calculate_coordinate_update` passed 5 tests.\n"
     ]
    }
   ],
   "source": [
    "test(calculate_coordinate_update)"
   ]
  },
  {
   "cell_type": "code",
   "execution_count": 53,
   "metadata": {},
   "outputs": [],
   "source": [
    "def calculate_dual_objective(y, X, w, alpha, lambda_):\n",
    "    \"\"\"calculate the objective for the dual problem.\n",
    "    \n",
    "    Args:\n",
    "        y: the corresponding +1 or -1 labels, shape = (num_examples)\n",
    "        X: the dataset matrix, shape = (num_examples, num_features)\n",
    "        w: vector of primal parameters, shape = (num_features)\n",
    "        alpha: vector of dual coordinates, shape = (num_examples)\n",
    "        lambda_: non negative scalar number\n",
    "\n",
    "    Output:\n",
    "        scalar\n",
    "\n",
    "    >>> y_test = np.array([1, -1])\n",
    "    >>> x_test = np.array([[1., 2., 3.], [4., 5., 6.]])\n",
    "    >>> w_test = np.array([-0.3, -0.3, -0.3])\n",
    "    >>> alpha_test = np.array([.1, .1])\n",
    "    >>> calculate_dual_objective(y_test, x_test, w_test, alpha_test, 1)\n",
    "    0.065\n",
    "    \"\"\"\n",
    "    \n",
    "    return np.sum(alpha) - w.T @ w * lambda_ / 2"
   ]
  },
  {
   "cell_type": "code",
   "execution_count": 54,
   "metadata": {},
   "outputs": [
    {
     "name": "stdout",
     "output_type": "stream",
     "text": [
      "✅ Your `calculate_dual_objective` passed 5 tests.\n"
     ]
    }
   ],
   "source": [
    "test(calculate_dual_objective)"
   ]
  },
  {
   "cell_type": "code",
   "execution_count": 55,
   "metadata": {
    "scrolled": true
   },
   "outputs": [
    {
     "name": "stdout",
     "output_type": "stream",
     "text": [
      "iteration=0, primal:746.93167, dual:0.00896, gap:746.92271\n",
      "iteration=20000, primal:139.40006, dual:56.74702, gap:82.65304\n",
      "iteration=40000, primal:246.85227, dual:87.38888, gap:159.46340\n",
      "iteration=60000, primal:125.83601, dual:103.68967, gap:22.14633\n",
      "iteration=80000, primal:174.19124, dual:111.01067, gap:63.18057\n",
      "iteration=100000, primal:125.81881, dual:115.06415, gap:10.75466\n",
      "iteration=120000, primal:124.11814, dual:117.52024, gap:6.59790\n",
      "iteration=140000, primal:124.72951, dual:119.24190, gap:5.48761\n",
      "iteration=160000, primal:125.17228, dual:120.31548, gap:4.85680\n",
      "iteration=180000, primal:123.09739, dual:120.96351, gap:2.13388\n",
      "training accuracy = 0.9261862917398945\n"
     ]
    }
   ],
   "source": [
    "# Notice that the gap is going to 0\n",
    "def coordinate_descent_for_svm_demo(y, X):\n",
    "    max_iter = 2*int(1e5)\n",
    "    lambda_ = int(1e4)\n",
    "\n",
    "    num_examples, num_features = X.shape\n",
    "    w = np.zeros(num_features)\n",
    "    alpha = np.zeros(num_examples)\n",
    "    \n",
    "    for it in range(max_iter):\n",
    "        # n = sample one data point uniformly at random data from x\n",
    "        n = random.randint(0,num_examples-1)\n",
    "        \n",
    "        w, alpha = calculate_coordinate_update(y, X, lambda_, alpha, w, n)\n",
    "            \n",
    "        if it % 20000 == 0:\n",
    "            # primal objective\n",
    "            primal_value = calculate_primal_objective(y, X, w, lambda_)\n",
    "            # dual objective\n",
    "            dual_value = calculate_dual_objective(y, X, w, alpha, lambda_)\n",
    "            # primal dual gap\n",
    "            duality_gap = primal_value - dual_value\n",
    "            print('iteration=%i, primal:%.5f, dual:%.5f, gap:%.5f'%(\n",
    "                    it, primal_value, dual_value, duality_gap))\n",
    "    print(\"training accuracy = {l}\".format(l=calculate_accuracy(y, X, w)))\n",
    "\n",
    "coordinate_descent_for_svm_demo(y, X)"
   ]
  }
 ],
 "metadata": {
  "anaconda-cloud": {},
  "interpreter": {
   "hash": "31f2aee4e71d21fbe5cf8b01ff0e069b9275f58929596ceb00d14d90e3e16cd6"
  },
  "kernelspec": {
   "display_name": "Python 3.8.10 64-bit",
   "name": "python3"
  },
  "language_info": {
   "codemirror_mode": {
    "name": "ipython",
    "version": 3
   },
   "file_extension": ".py",
   "mimetype": "text/x-python",
   "name": "python",
   "nbconvert_exporter": "python",
   "pygments_lexer": "ipython3",
   "version": "3.8.10"
  }
 },
 "nbformat": 4,
 "nbformat_minor": 4
}
