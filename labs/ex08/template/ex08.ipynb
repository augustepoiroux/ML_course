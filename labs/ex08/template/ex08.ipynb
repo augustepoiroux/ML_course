{
 "cells": [
  {
   "cell_type": "code",
   "execution_count": 1,
   "metadata": {},
   "outputs": [],
   "source": [
    "# Useful starting lines\n",
    "%matplotlib inline\n",
    "import numpy as np\n",
    "import matplotlib.pyplot as plt\n",
    "import torch\n",
    "import torch.nn as nn\n",
    "from torch.autograd import Variable\n",
    "from test_utils import test\n",
    "%load_ext autoreload\n",
    "%autoreload 2"
   ]
  },
  {
   "cell_type": "code",
   "execution_count": 2,
   "metadata": {},
   "outputs": [],
   "source": [
    "# Defining a toy dataset\n",
    "x_train = np.array([[3.3], [4.4], [5.5], [6.71], [6.93], [4.168], \n",
    "                    [9.779], [6.182], [7.59], [2.167], [7.042], \n",
    "                    [10.791], [5.313], [7.997], [3.1]], dtype=np.float32)\n",
    "\n",
    "y_train = np.array([[1.7], [2.76], [2.09], [3.19], [1.694], [1.573], \n",
    "                    [3.366], [2.596], [2.53], [1.221], [2.827], \n",
    "                        [3.465], [1.65], [2.904], [1.3]], dtype=np.float32)"
   ]
  },
  {
   "cell_type": "markdown",
   "metadata": {},
   "source": [
    "## Linear regression"
   ]
  },
  {
   "cell_type": "code",
   "execution_count": 16,
   "metadata": {},
   "outputs": [],
   "source": [
    "class MyLinearRegression:\n",
    "    \"\"\"implementation of a linear regression model with 1d input with a similar signature as nn.Module\n",
    "    \"\"\"\n",
    "    def __init__(self):\n",
    "        self.w = Variable(torch.Tensor([1.0]), requires_grad=True)\n",
    "        self.b = Variable(torch.Tensor([1.0]), requires_grad=True)\n",
    "        \n",
    "    def forward(self, x):\n",
    "        \"\"\"compute predictions based on the inputs.\n",
    "        Inputs:\n",
    "            x: torch.Tensor of floats, shape (n) where n is the size of batch\n",
    "        \n",
    "        Returns:\n",
    "            tensor of floats, shape (n)\n",
    "            \n",
    "        >>> model = MyLinearRegression()  \n",
    "        >>> def test():\n",
    "        ...   model.w.data.fill_(2)\n",
    "        ...   model.b.data.fill_(3)\n",
    "        ...   return model(torch.tensor([0.0, 1.0, 2.0])).tolist()\n",
    "        >>> test()\n",
    "        [3.0, 5.0, 7.0]\n",
    "        \"\"\" \n",
    "        return x * self.w + self.b\n",
    "    \n",
    "    def parameters(self):\n",
    "        \"\"\"returns a list of model's parameters \n",
    "        \n",
    "        Returns:\n",
    "            list of model parameters\n",
    "            \n",
    "        >>> model = MyLinearRegression()  \n",
    "        >>> model.b in model.parameters() and model.w in model.parameters()\n",
    "        True\n",
    "        \"\"\"\n",
    "        return [self.w, self.b]\n",
    "    \n",
    "    def __call__(self, x):\n",
    "        # Convenience function\n",
    "        return self.forward(x)"
   ]
  },
  {
   "cell_type": "code",
   "execution_count": 17,
   "metadata": {},
   "outputs": [
    {
     "name": "stdout",
     "output_type": "stream",
     "text": [
      "✅ Your `forward` passes some basic tests.\n",
      "✅ Your `parameters` passes some basic tests.\n"
     ]
    }
   ],
   "source": [
    "test(MyLinearRegression.forward)\n",
    "test(MyLinearRegression.parameters)"
   ]
  },
  {
   "cell_type": "code",
   "execution_count": 18,
   "metadata": {},
   "outputs": [],
   "source": [
    "def mselossfunc(pred, y):\n",
    "    \"\"\"the MSE loss function\n",
    "    Inputs:\n",
    "        pred: tensor of floats, shape (n)\n",
    "        y: tensor of floats, shape (n)\n",
    "    \n",
    "    Returns:\n",
    "        a single-element tensor, the average of MSEs\n",
    "    \n",
    "    >>> mselossfunc(torch.tensor([1., 3.]), torch.tensor([3., 2.])).tolist()\n",
    "    2.5\n",
    "    \"\"\"\n",
    "    return ((pred - y)**2).sum() / len(pred)"
   ]
  },
  {
   "cell_type": "code",
   "execution_count": 19,
   "metadata": {},
   "outputs": [
    {
     "name": "stdout",
     "output_type": "stream",
     "text": [
      "✅ Your `mselossfunc` passes some basic tests.\n"
     ]
    }
   ],
   "source": [
    "test(mselossfunc)"
   ]
  },
  {
   "cell_type": "code",
   "execution_count": 20,
   "metadata": {},
   "outputs": [],
   "source": [
    "def train(features, labels, model, lossfunc, optimizer, num_epoch):\n",
    "    \n",
    "    \"\"\"train a model for num_epoch epochs on the given data\n",
    "    \n",
    "    Inputs:\n",
    "        features: a numpy array\n",
    "        labels: a numpy array\n",
    "        model: an instance of nn.Module (or classes with similar signature)\n",
    "        lossfunc: a function : (prediction outputs, correct outputs) -> loss\n",
    "        optimizer: an instance of torch.optim.Optimizer\n",
    "        num_epoch: an int\n",
    "    \"\"\"\n",
    "\n",
    "    for epoch in range(num_epoch):\n",
    "        # TODO: Step 1 - create torch variables corresponding to features and labels\n",
    "        features_tensor = Variable(torch.from_numpy(features)).requires_grad_(True)\n",
    "        label_tensor = Variable(torch.from_numpy(labels)).requires_grad_(True)\n",
    "\n",
    "        # TODO: Step 2 - compute model predictions and loss\n",
    "        pred = model(features_tensor)\n",
    "        loss = lossfunc(pred, label_tensor)\n",
    "        \n",
    "        # TODO: Step 3 - do a backward pass and a gradient update step\n",
    "        # Hint: Do not forget to first clear the gradients from the previous rounds\n",
    "        optimizer.zero_grad()\n",
    "        loss.backward()\n",
    "        optimizer.step()\n",
    "        \n",
    "        if epoch % 10 == 0:\n",
    "            print ('Epoch [%d/%d], Loss: %.4f' %(epoch+1, num_epoch, loss.item()))\n",
    "        \n",
    "        \n",
    "def visualize(x_train, y_train, model):\n",
    "    # A convenience function for visualizing predictions given by the model\n",
    "\n",
    "    predicted = model(torch.from_numpy(x_train)).data.numpy()\n",
    "    order = np.argsort(x_train, axis=0)\n",
    "    plt.plot(x_train[order].flatten(), y_train[order].flatten(), 'ro', label='Original data')\n",
    "    plt.plot(x_train[order].flatten(), predicted[order].flatten(), label='Fitted line')\n",
    "    plt.legend()\n",
    "    plt.show()"
   ]
  },
  {
   "cell_type": "code",
   "execution_count": 21,
   "metadata": {},
   "outputs": [
    {
     "name": "stdout",
     "output_type": "stream",
     "text": [
      "Epoch [1/50], Loss: 25.6761\n",
      "Epoch [11/50], Loss: 4.3574\n",
      "Epoch [21/50], Loss: 0.8585\n",
      "Epoch [31/50], Loss: 0.2843\n",
      "Epoch [41/50], Loss: 0.1900\n"
     ]
    },
    {
     "data": {
      "image/png": "[encoded data removed]",
      "text/plain": [
       "<Figure size 432x288 with 1 Axes>"
      ]
     },
     "metadata": {
      "needs_background": "light"
     },
     "output_type": "display_data"
    }
   ],
   "source": [
    "# Training and visualizing predictions made by linear regression model\n",
    "model = MyLinearRegression()\n",
    "optimizer = torch.optim.SGD(model.parameters(), lr=1e-3)\n",
    "\n",
    "train(features=x_train,\n",
    "      labels=y_train,\n",
    "      model=model,\n",
    "      lossfunc=mselossfunc, \n",
    "      optimizer=optimizer,\n",
    "      num_epoch=50)\n",
    "visualize(x_train, y_train, model)"
   ]
  },
  {
   "cell_type": "markdown",
   "metadata": {},
   "source": [
    "## Linear Regression (as nn.Module)"
   ]
  },
  {
   "cell_type": "code",
   "execution_count": 22,
   "metadata": {},
   "outputs": [],
   "source": [
    "class NNLinearRegression(nn.Module):\n",
    "    \"\"\"implementation of a linear regression model with 1d input as a nn.Module\n",
    "    \"\"\"\n",
    "    def __init__(self):\n",
    "        # TODO: call the super class init function. PyTorch needs this to initialize the model.\n",
    "        super(NNLinearRegression, self).__init__()\n",
    "        # TODO: Define the parameters of the model (weights and biases) and initialize them\n",
    "        self.w = nn.Parameter(torch.Tensor([1.0]), requires_grad=True)\n",
    "        self.b = nn.Parameter(torch.Tensor([1.0]), requires_grad=True)\n",
    "        \n",
    "    def forward(self, x):\n",
    "        \"\"\"compute predictions based on the inputs.\n",
    "        Inputs:\n",
    "            x: torch.Tensor of floats, shape (n) where n is the size of batch\n",
    "        \n",
    "        Returns:\n",
    "            tensor of floats, shape (n)\n",
    "            \n",
    "        >>> model = MyLinearRegression()  \n",
    "        >>> def test():\n",
    "        ...   model.w.data.fill_(2)\n",
    "        ...   model.b.data.fill_(3)\n",
    "        ...   return model(torch.tensor([0.0, 1.0, 2.0])).tolist()\n",
    "        >>> test()\n",
    "        [3.0, 5.0, 7.0]\n",
    "        \"\"\" \n",
    "        return x * self.w + self.b"
   ]
  },
  {
   "cell_type": "code",
   "execution_count": 23,
   "metadata": {},
   "outputs": [
    {
     "name": "stdout",
     "output_type": "stream",
     "text": [
      "✅ Your `forward` passes some basic tests.\n"
     ]
    }
   ],
   "source": [
    "test(NNLinearRegression.forward)"
   ]
  },
  {
   "cell_type": "code",
   "execution_count": 24,
   "metadata": {},
   "outputs": [
    {
     "name": "stdout",
     "output_type": "stream",
     "text": [
      "Epoch [1/50], Loss: 25.6761\n",
      "Epoch [11/50], Loss: 4.3574\n",
      "Epoch [21/50], Loss: 0.8585\n",
      "Epoch [31/50], Loss: 0.2843\n",
      "Epoch [41/50], Loss: 0.1900\n"
     ]
    },
    {
     "data": {
      "image/png": "[encoded data removed]",
      "text/plain": [
       "<Figure size 432x288 with 1 Axes>"
      ]
     },
     "metadata": {
      "needs_background": "light"
     },
     "output_type": "display_data"
    }
   ],
   "source": [
    "# Training and visualizing predictions made by linear regression model\n",
    "model = NNLinearRegression()\n",
    "optimizer = torch.optim.SGD(model.parameters(), lr=1e-3)\n",
    "\n",
    "train(features=x_train,\n",
    "      labels=y_train,\n",
    "      model=model,\n",
    "      lossfunc=mselossfunc, \n",
    "      optimizer=optimizer,\n",
    "      num_epoch=50)\n",
    "visualize(x_train, y_train, model)"
   ]
  },
  {
   "cell_type": "markdown",
   "metadata": {},
   "source": [
    "## Linear Regression (using nn package)"
   ]
  },
  {
   "cell_type": "code",
   "execution_count": 25,
   "metadata": {},
   "outputs": [
    {
     "name": "stdout",
     "output_type": "stream",
     "text": [
      "Epoch [1/100], Loss: 13.5864\n",
      "Epoch [11/100], Loss: 2.4497\n",
      "Epoch [21/100], Loss: 0.6216\n",
      "Epoch [31/100], Loss: 0.3211\n",
      "Epoch [41/100], Loss: 0.2714\n",
      "Epoch [51/100], Loss: 0.2629\n",
      "Epoch [61/100], Loss: 0.2611\n",
      "Epoch [71/100], Loss: 0.2604\n",
      "Epoch [81/100], Loss: 0.2599\n",
      "Epoch [91/100], Loss: 0.2594\n"
     ]
    },
    {
     "data": {
      "image/png": "[encoded data removed]",
      "text/plain": [
       "<Figure size 432x288 with 1 Axes>"
      ]
     },
     "metadata": {
      "needs_background": "light"
     },
     "output_type": "display_data"
    }
   ],
   "source": [
    "# Training and visualizing predictions made by linear regression model (nn package)\n",
    "\n",
    "# TODO: Using pre-existing modules from nn package, create a 1d linear regression model\n",
    "model = nn.Linear(1, 1)\n",
    "\n",
    "\n",
    "# TODO: use loss function from nn package\n",
    "lossfunc = nn.MSELoss()\n",
    "\n",
    "optimizer = torch.optim.SGD(model.parameters(), lr=1e-3)\n",
    "\n",
    "train(features=x_train,\n",
    "      labels=y_train,\n",
    "      model=model,\n",
    "      lossfunc=lossfunc,\n",
    "      optimizer=optimizer,\n",
    "      num_epoch=100)\n",
    "visualize(x_train, y_train, model)"
   ]
  },
  {
   "cell_type": "markdown",
   "metadata": {},
   "source": [
    "## MLP"
   ]
  },
  {
   "cell_type": "code",
   "execution_count": 32,
   "metadata": {},
   "outputs": [
    {
     "name": "stdout",
     "output_type": "stream",
     "text": [
      "Epoch [1/3000], Loss: 6.5585\n",
      "Epoch [11/3000], Loss: 0.3994\n",
      "Epoch [21/3000], Loss: 0.3612\n",
      "Epoch [31/3000], Loss: 0.3313\n",
      "Epoch [41/3000], Loss: 0.3056\n",
      "Epoch [51/3000], Loss: 0.2830\n",
      "Epoch [61/3000], Loss: 0.2636\n",
      "Epoch [71/3000], Loss: 0.2474\n",
      "Epoch [81/3000], Loss: 0.2337\n",
      "Epoch [91/3000], Loss: 0.2220\n",
      "Epoch [101/3000], Loss: 0.2120\n",
      "Epoch [111/3000], Loss: 0.2036\n",
      "Epoch [121/3000], Loss: 0.1968\n",
      "Epoch [131/3000], Loss: 0.1914\n",
      "Epoch [141/3000], Loss: 0.1872\n",
      "Epoch [151/3000], Loss: 0.1839\n",
      "Epoch [161/3000], Loss: 0.1814\n",
      "Epoch [171/3000], Loss: 0.1794\n",
      "Epoch [181/3000], Loss: 0.1777\n",
      "Epoch [191/3000], Loss: 0.1765\n",
      "Epoch [201/3000], Loss: 0.1754\n",
      "Epoch [211/3000], Loss: 0.1746\n",
      "Epoch [221/3000], Loss: 0.1739\n",
      "Epoch [231/3000], Loss: 0.1733\n",
      "Epoch [241/3000], Loss: 0.1728\n",
      "Epoch [251/3000], Loss: 0.1724\n",
      "Epoch [261/3000], Loss: 0.1722\n",
      "Epoch [271/3000], Loss: 0.2672\n",
      "Epoch [281/3000], Loss: 0.2015\n",
      "Epoch [291/3000], Loss: 0.1778\n",
      "Epoch [301/3000], Loss: 0.1756\n",
      "Epoch [311/3000], Loss: 0.1743\n",
      "Epoch [321/3000], Loss: 0.1734\n",
      "Epoch [331/3000], Loss: 0.1735\n",
      "Epoch [341/3000], Loss: 0.2038\n",
      "Epoch [351/3000], Loss: 0.2761\n",
      "Epoch [361/3000], Loss: 0.1801\n",
      "Epoch [371/3000], Loss: 0.1755\n",
      "Epoch [381/3000], Loss: 0.1746\n",
      "Epoch [391/3000], Loss: 0.1774\n",
      "Epoch [401/3000], Loss: 0.2221\n",
      "Epoch [411/3000], Loss: 0.2338\n",
      "Epoch [421/3000], Loss: 0.1826\n",
      "Epoch [431/3000], Loss: 0.1773\n",
      "Epoch [441/3000], Loss: 0.1790\n",
      "Epoch [451/3000], Loss: 0.1989\n",
      "Epoch [461/3000], Loss: 0.2343\n",
      "Epoch [471/3000], Loss: 0.1938\n",
      "Epoch [481/3000], Loss: 0.1815\n",
      "Epoch [491/3000], Loss: 0.1820\n",
      "Epoch [501/3000], Loss: 0.1954\n",
      "Epoch [511/3000], Loss: 0.2181\n",
      "Epoch [521/3000], Loss: 0.1991\n",
      "Epoch [531/3000], Loss: 0.1856\n",
      "Epoch [541/3000], Loss: 0.1849\n",
      "Epoch [551/3000], Loss: 0.1941\n",
      "Epoch [561/3000], Loss: 0.2080\n",
      "Epoch [571/3000], Loss: 0.2000\n",
      "Epoch [581/3000], Loss: 0.1889\n",
      "Epoch [591/3000], Loss: 0.1871\n",
      "Epoch [601/3000], Loss: 0.1930\n",
      "Epoch [611/3000], Loss: 0.2019\n",
      "Epoch [621/3000], Loss: 0.1992\n",
      "Epoch [631/3000], Loss: 0.1913\n",
      "Epoch [641/3000], Loss: 0.1888\n",
      "Epoch [651/3000], Loss: 0.1921\n",
      "Epoch [661/3000], Loss: 0.1979\n",
      "Epoch [671/3000], Loss: 0.1979\n",
      "Epoch [681/3000], Loss: 0.1928\n",
      "Epoch [691/3000], Loss: 0.1901\n",
      "Epoch [701/3000], Loss: 0.1915\n",
      "Epoch [711/3000], Loss: 0.1952\n",
      "Epoch [721/3000], Loss: 0.1964\n",
      "Epoch [731/3000], Loss: 0.1936\n",
      "Epoch [741/3000], Loss: 0.1910\n",
      "Epoch [751/3000], Loss: 0.1912\n",
      "Epoch [761/3000], Loss: 0.1934\n",
      "Epoch [771/3000], Loss: 0.1949\n",
      "Epoch [781/3000], Loss: 0.1937\n",
      "Epoch [791/3000], Loss: 0.1917\n",
      "Epoch [801/3000], Loss: 0.1911\n",
      "Epoch [811/3000], Loss: 0.1921\n",
      "Epoch [821/3000], Loss: 0.1935\n",
      "Epoch [831/3000], Loss: 0.1934\n",
      "Epoch [841/3000], Loss: 0.1921\n",
      "Epoch [851/3000], Loss: 0.1911\n",
      "Epoch [861/3000], Loss: 0.1914\n",
      "Epoch [871/3000], Loss: 0.1923\n",
      "Epoch [881/3000], Loss: 0.1927\n",
      "Epoch [891/3000], Loss: 0.1921\n",
      "Epoch [901/3000], Loss: 0.1912\n",
      "Epoch [911/3000], Loss: 0.1909\n",
      "Epoch [921/3000], Loss: 0.1913\n",
      "Epoch [931/3000], Loss: 0.1918\n",
      "Epoch [941/3000], Loss: 0.1917\n",
      "Epoch [951/3000], Loss: 0.1912\n",
      "Epoch [961/3000], Loss: 0.1907\n",
      "Epoch [971/3000], Loss: 0.1907\n",
      "Epoch [981/3000], Loss: 0.1909\n",
      "Epoch [991/3000], Loss: 0.1911\n",
      "Epoch [1001/3000], Loss: 0.1909\n",
      "Epoch [1011/3000], Loss: 0.1905\n",
      "Epoch [1021/3000], Loss: 0.1903\n",
      "Epoch [1031/3000], Loss: 0.1903\n",
      "Epoch [1041/3000], Loss: 0.1904\n",
      "Epoch [1051/3000], Loss: 0.1904\n",
      "Epoch [1061/3000], Loss: 0.1902\n",
      "Epoch [1071/3000], Loss: 0.1899\n",
      "Epoch [1081/3000], Loss: 0.1898\n",
      "Epoch [1091/3000], Loss: 0.1898\n",
      "Epoch [1101/3000], Loss: 0.1898\n",
      "Epoch [1111/3000], Loss: 0.1898\n",
      "Epoch [1121/3000], Loss: 0.1896\n",
      "Epoch [1131/3000], Loss: 0.1894\n",
      "Epoch [1141/3000], Loss: 0.1892\n",
      "Epoch [1151/3000], Loss: 0.1892\n",
      "Epoch [1161/3000], Loss: 0.1892\n",
      "Epoch [1171/3000], Loss: 0.1891\n",
      "Epoch [1181/3000], Loss: 0.1890\n",
      "Epoch [1191/3000], Loss: 0.1888\n",
      "Epoch [1201/3000], Loss: 0.1887\n",
      "Epoch [1211/3000], Loss: 0.1886\n",
      "Epoch [1221/3000], Loss: 0.1886\n",
      "Epoch [1231/3000], Loss: 0.1885\n",
      "Epoch [1241/3000], Loss: 0.1884\n",
      "Epoch [1251/3000], Loss: 0.1882\n",
      "Epoch [1261/3000], Loss: 0.1881\n",
      "Epoch [1271/3000], Loss: 0.1880\n",
      "Epoch [1281/3000], Loss: 0.1879\n",
      "Epoch [1291/3000], Loss: 0.1879\n",
      "Epoch [1301/3000], Loss: 0.1878\n",
      "Epoch [1311/3000], Loss: 0.1876\n",
      "Epoch [1321/3000], Loss: 0.1875\n",
      "Epoch [1331/3000], Loss: 0.1874\n",
      "Epoch [1341/3000], Loss: 0.1873\n",
      "Epoch [1351/3000], Loss: 0.1872\n",
      "Epoch [1361/3000], Loss: 0.1871\n",
      "Epoch [1371/3000], Loss: 0.1870\n",
      "Epoch [1381/3000], Loss: 0.1869\n",
      "Epoch [1391/3000], Loss: 0.1868\n",
      "Epoch [1401/3000], Loss: 0.1867\n",
      "Epoch [1411/3000], Loss: 0.1866\n",
      "Epoch [1421/3000], Loss: 0.1865\n",
      "Epoch [1431/3000], Loss: 0.1864\n",
      "Epoch [1441/3000], Loss: 0.1863\n",
      "Epoch [1451/3000], Loss: 0.1862\n",
      "Epoch [1461/3000], Loss: 0.1861\n",
      "Epoch [1471/3000], Loss: 0.1860\n",
      "Epoch [1481/3000], Loss: 0.1860\n",
      "Epoch [1491/3000], Loss: 0.1859\n",
      "Epoch [1501/3000], Loss: 0.1858\n",
      "Epoch [1511/3000], Loss: 0.1857\n",
      "Epoch [1521/3000], Loss: 0.1856\n",
      "Epoch [1531/3000], Loss: 0.1855\n",
      "Epoch [1541/3000], Loss: 0.1854\n",
      "Epoch [1551/3000], Loss: 0.1853\n",
      "Epoch [1561/3000], Loss: 0.1852\n",
      "Epoch [1571/3000], Loss: 0.1851\n",
      "Epoch [1581/3000], Loss: 0.1851\n",
      "Epoch [1591/3000], Loss: 0.1850\n",
      "Epoch [1601/3000], Loss: 0.1849\n",
      "Epoch [1611/3000], Loss: 0.1848\n",
      "Epoch [1621/3000], Loss: 0.1847\n",
      "Epoch [1631/3000], Loss: 0.1847\n",
      "Epoch [1641/3000], Loss: 0.1846\n",
      "Epoch [1651/3000], Loss: 0.1845\n",
      "Epoch [1661/3000], Loss: 0.1844\n",
      "Epoch [1671/3000], Loss: 0.1843\n",
      "Epoch [1681/3000], Loss: 0.1843\n",
      "Epoch [1691/3000], Loss: 0.1842\n",
      "Epoch [1701/3000], Loss: 0.1841\n",
      "Epoch [1711/3000], Loss: 0.1840\n",
      "Epoch [1721/3000], Loss: 0.1840\n",
      "Epoch [1731/3000], Loss: 0.1839\n",
      "Epoch [1741/3000], Loss: 0.1838\n",
      "Epoch [1751/3000], Loss: 0.1838\n",
      "Epoch [1761/3000], Loss: 0.1837\n",
      "Epoch [1771/3000], Loss: 0.1836\n",
      "Epoch [1781/3000], Loss: 0.1836\n",
      "Epoch [1791/3000], Loss: 0.1835\n",
      "Epoch [1801/3000], Loss: 0.1834\n",
      "Epoch [1811/3000], Loss: 0.1834\n",
      "Epoch [1821/3000], Loss: 0.1833\n",
      "Epoch [1831/3000], Loss: 0.1833\n",
      "Epoch [1841/3000], Loss: 0.1832\n",
      "Epoch [1851/3000], Loss: 0.1831\n",
      "Epoch [1861/3000], Loss: 0.1831\n",
      "Epoch [1871/3000], Loss: 0.1830\n",
      "Epoch [1881/3000], Loss: 0.1830\n",
      "Epoch [1891/3000], Loss: 0.1829\n",
      "Epoch [1901/3000], Loss: 0.1828\n",
      "Epoch [1911/3000], Loss: 0.1828\n",
      "Epoch [1921/3000], Loss: 0.1827\n",
      "Epoch [1931/3000], Loss: 0.1827\n",
      "Epoch [1941/3000], Loss: 0.1826\n",
      "Epoch [1951/3000], Loss: 0.1826\n",
      "Epoch [1961/3000], Loss: 0.1825\n",
      "Epoch [1971/3000], Loss: 0.1825\n",
      "Epoch [1981/3000], Loss: 0.1824\n",
      "Epoch [1991/3000], Loss: 0.1824\n",
      "Epoch [2001/3000], Loss: 0.1823\n",
      "Epoch [2011/3000], Loss: 0.1823\n",
      "Epoch [2021/3000], Loss: 0.1822\n",
      "Epoch [2031/3000], Loss: 0.1822\n",
      "Epoch [2041/3000], Loss: 0.1821\n",
      "Epoch [2051/3000], Loss: 0.1821\n",
      "Epoch [2061/3000], Loss: 0.1820\n",
      "Epoch [2071/3000], Loss: 0.1820\n",
      "Epoch [2081/3000], Loss: 0.1819\n",
      "Epoch [2091/3000], Loss: 0.1819\n",
      "Epoch [2101/3000], Loss: 0.1818\n",
      "Epoch [2111/3000], Loss: 0.1818\n",
      "Epoch [2121/3000], Loss: 0.1817\n",
      "Epoch [2131/3000], Loss: 0.1817\n",
      "Epoch [2141/3000], Loss: 0.1817\n",
      "Epoch [2151/3000], Loss: 0.1816\n",
      "Epoch [2161/3000], Loss: 0.1816\n",
      "Epoch [2171/3000], Loss: 0.1815\n",
      "Epoch [2181/3000], Loss: 0.1815\n",
      "Epoch [2191/3000], Loss: 0.1814\n",
      "Epoch [2201/3000], Loss: 0.1814\n",
      "Epoch [2211/3000], Loss: 0.1814\n",
      "Epoch [2221/3000], Loss: 0.1813\n",
      "Epoch [2231/3000], Loss: 0.1813\n",
      "Epoch [2241/3000], Loss: 0.1812\n",
      "Epoch [2251/3000], Loss: 0.1812\n",
      "Epoch [2261/3000], Loss: 0.1811\n",
      "Epoch [2271/3000], Loss: 0.1811\n",
      "Epoch [2281/3000], Loss: 0.1811\n",
      "Epoch [2291/3000], Loss: 0.1810\n",
      "Epoch [2301/3000], Loss: 0.1810\n",
      "Epoch [2311/3000], Loss: 0.1809\n",
      "Epoch [2321/3000], Loss: 0.1809\n",
      "Epoch [2331/3000], Loss: 0.1809\n",
      "Epoch [2341/3000], Loss: 0.1808\n",
      "Epoch [2351/3000], Loss: 0.1808\n",
      "Epoch [2361/3000], Loss: 0.1808\n",
      "Epoch [2371/3000], Loss: 0.1807\n",
      "Epoch [2381/3000], Loss: 0.1807\n",
      "Epoch [2391/3000], Loss: 0.1806\n",
      "Epoch [2401/3000], Loss: 0.1806\n",
      "Epoch [2411/3000], Loss: 0.1806\n",
      "Epoch [2421/3000], Loss: 0.1805\n",
      "Epoch [2431/3000], Loss: 0.1805\n",
      "Epoch [2441/3000], Loss: 0.1805\n",
      "Epoch [2451/3000], Loss: 0.1804\n",
      "Epoch [2461/3000], Loss: 0.1804\n",
      "Epoch [2471/3000], Loss: 0.1804\n",
      "Epoch [2481/3000], Loss: 0.1803\n",
      "Epoch [2491/3000], Loss: 0.1803\n",
      "Epoch [2501/3000], Loss: 0.1803\n",
      "Epoch [2511/3000], Loss: 0.1802\n",
      "Epoch [2521/3000], Loss: 0.1802\n",
      "Epoch [2531/3000], Loss: 0.1802\n",
      "Epoch [2541/3000], Loss: 0.1801\n",
      "Epoch [2551/3000], Loss: 0.1801\n",
      "Epoch [2561/3000], Loss: 0.1801\n",
      "Epoch [2571/3000], Loss: 0.1800\n",
      "Epoch [2581/3000], Loss: 0.1800\n",
      "Epoch [2591/3000], Loss: 0.1800\n",
      "Epoch [2601/3000], Loss: 0.1799\n",
      "Epoch [2611/3000], Loss: 0.1799\n",
      "Epoch [2621/3000], Loss: 0.1799\n",
      "Epoch [2631/3000], Loss: 0.1798\n",
      "Epoch [2641/3000], Loss: 0.1798\n",
      "Epoch [2651/3000], Loss: 0.1798\n",
      "Epoch [2661/3000], Loss: 0.1797\n",
      "Epoch [2671/3000], Loss: 0.1797\n",
      "Epoch [2681/3000], Loss: 0.1797\n",
      "Epoch [2691/3000], Loss: 0.1796\n",
      "Epoch [2701/3000], Loss: 0.1796\n",
      "Epoch [2711/3000], Loss: 0.1796\n",
      "Epoch [2721/3000], Loss: 0.1796\n",
      "Epoch [2731/3000], Loss: 0.1795\n",
      "Epoch [2741/3000], Loss: 0.1795\n",
      "Epoch [2751/3000], Loss: 0.1795\n",
      "Epoch [2761/3000], Loss: 0.1794\n",
      "Epoch [2771/3000], Loss: 0.1794\n",
      "Epoch [2781/3000], Loss: 0.1794\n",
      "Epoch [2791/3000], Loss: 0.1794\n",
      "Epoch [2801/3000], Loss: 0.1793\n",
      "Epoch [2811/3000], Loss: 0.1793\n",
      "Epoch [2821/3000], Loss: 0.1793\n",
      "Epoch [2831/3000], Loss: 0.1792\n",
      "Epoch [2841/3000], Loss: 0.1792\n",
      "Epoch [2851/3000], Loss: 0.1792\n",
      "Epoch [2861/3000], Loss: 0.1792\n",
      "Epoch [2871/3000], Loss: 0.1791\n",
      "Epoch [2881/3000], Loss: 0.1791\n",
      "Epoch [2891/3000], Loss: 0.1791\n",
      "Epoch [2901/3000], Loss: 0.1791\n",
      "Epoch [2911/3000], Loss: 0.1790\n",
      "Epoch [2921/3000], Loss: 0.1790\n",
      "Epoch [2931/3000], Loss: 0.1790\n",
      "Epoch [2941/3000], Loss: 0.1790\n",
      "Epoch [2951/3000], Loss: 0.1789\n",
      "Epoch [2961/3000], Loss: 0.1789\n",
      "Epoch [2971/3000], Loss: 0.1789\n",
      "Epoch [2981/3000], Loss: 0.1788\n",
      "Epoch [2991/3000], Loss: 0.1788\n"
     ]
    },
    {
     "data": {
      "image/png": "[encoded data removed]",
      "text/plain": [
       "<Figure size 432x288 with 1 Axes>"
      ]
     },
     "metadata": {
      "needs_background": "light"
     },
     "output_type": "display_data"
    }
   ],
   "source": [
    "class MLP(nn.Module):\n",
    "    def __init__(self, hidden_size):\n",
    "        super(MLP, self).__init__()\n",
    "        # TODO: Define parameters / layers of a multi-layered perceptron with one hidden layer\n",
    "        self.hidden = nn.Linear(1, hidden_size)\n",
    "        self.output = nn.Linear(hidden_size, 1)\n",
    "    \n",
    "    def forward(self, x):\n",
    "        # TODO: implement forward computation\n",
    "        x = torch.sigmoid(self.hidden(x))\n",
    "        return self.output(x)\n",
    "    \n",
    "# TODO: Play with learning rate, hidden size, and optimizer type for multi-layered perceptron\n",
    "hidden_size = 10\n",
    "learning_rate = 1e-1\n",
    "\n",
    "model = MLP(hidden_size=hidden_size)\n",
    "\n",
    "optimizer = torch.optim.SGD(model.parameters(), lr=learning_rate)\n",
    "\n",
    "train(features=x_train,\n",
    "      labels=y_train,\n",
    "      model=model,\n",
    "      lossfunc=lossfunc,\n",
    "      optimizer=optimizer,\n",
    "      num_epoch=3000)\n",
    "visualize(x_train, y_train, model)"
   ]
  },
  {
   "cell_type": "markdown",
   "metadata": {},
   "source": [
    "## Reproducibility\n",
    "Since parameters are usually initialized randomly, \n",
    "running the same code twice will produce different outputs.\n",
    "This makes it hard to debug the code or re-use it in the future by others.\n",
    "To alleviate this problem, we can manually set the random seed at the beginning of the code. "
   ]
  },
  {
   "cell_type": "code",
   "execution_count": null,
   "metadata": {},
   "outputs": [],
   "source": [
    "\"\"\"\n",
    "Set the numpy and torch random seed to a fixed number. \n",
    "\"\"\"\n",
    "def set_seed(seed):\n",
    "    \"\"\"\n",
    "    >>> set_seed(45)\n",
    "    >>> x = torch.randn(1).item()\n",
    "    >>> set_seed(45)\n",
    "    >>> torch.randn(1).item() == x\n",
    "    True\n",
    "    \"\"\"\n",
    "    raise NotImplementedError"
   ]
  },
  {
   "cell_type": "code",
   "execution_count": null,
   "metadata": {},
   "outputs": [],
   "source": [
    "test(set_seed)"
   ]
  }
 ],
 "metadata": {
  "kernelspec": {
   "display_name": "Python 3",
   "language": "python",
   "name": "python3"
  },
  "language_info": {
   "codemirror_mode": {
    "name": "ipython",
    "version": 3
   },
   "file_extension": ".py",
   "mimetype": "text/x-python",
   "name": "python",
   "nbconvert_exporter": "python",
   "pygments_lexer": "ipython3",
   "version": "3.8.10"
  }
 },
 "nbformat": 4,
 "nbformat_minor": 2
}
