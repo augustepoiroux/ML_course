{
 "cells": [
  {
   "cell_type": "code",
   "execution_count": 1,
   "source": [
    "# Useful starting lines\n",
    "%matplotlib inline\n",
    "import numpy as np\n",
    "import matplotlib.pyplot as plt\n",
    "%load_ext autoreload\n",
    "%autoreload 2"
   ],
   "outputs": [],
   "metadata": {
    "collapsed": true
   }
  },
  {
   "cell_type": "markdown",
   "source": [
    "# 1 Least squares and linear basis functions models\n",
    "## 1.1 Least squares"
   ],
   "metadata": {}
  },
  {
   "cell_type": "code",
   "execution_count": 61,
   "source": [
    "def compute_loss(y, tx, w):\n",
    "    \"\"\"Calculate the loss.\n",
    "\n",
    "    You can calculate the loss using mse or mae.\n",
    "    \"\"\"\n",
    "    e = y.reshape((-1,1)) - tx@w\n",
    "    return np.squeeze(e.T @ e) / (2*len(y))"
   ],
   "outputs": [],
   "metadata": {}
  },
  {
   "cell_type": "code",
   "execution_count": 79,
   "source": [
    "def compute_rmse(y, tx, w):\n",
    "    e = y - tx@w\n",
    "    mse = np.squeeze(e.T @ e) / (2*len(y))\n",
    "    return np.sqrt(2*mse)"
   ],
   "outputs": [],
   "metadata": {}
  },
  {
   "cell_type": "code",
   "execution_count": 62,
   "source": [
    "def least_squares(y, tx):\n",
    "    \"\"\"calculate the least squares solution.\"\"\"\n",
    "    w = np.linalg.solve(tx.T @ tx, tx.T @ y)\n",
    "    e = y - tx@w\n",
    "    mse = np.squeeze(e.T @ e) / (2*len(y))\n",
    "    return mse, w"
   ],
   "outputs": [],
   "metadata": {
    "collapsed": true
   }
  },
  {
   "cell_type": "code",
   "execution_count": 66,
   "source": [
    "def least_squares_gd(y, tx):\n",
    "    def compute_gradient(y, tx, w):\n",
    "        \"\"\"Compute the gradient.\"\"\"\n",
    "        return - tx.T @ (y.reshape((-1,1)) - tx@w) / len(y)\n",
    "    \n",
    "    def gradient_descent(y, tx, initial_w, max_iters, gamma):\n",
    "        \"\"\"Gradient descent algorithm.\"\"\"\n",
    "        # Define parameters to store w and loss\n",
    "        ws = [initial_w]\n",
    "        w = initial_w\n",
    "        for n_iter in range(max_iters):\n",
    "            grad = compute_gradient(y, tx, w.reshape((-1,1)))\n",
    "            w = w - gamma * np.squeeze(grad)\n",
    "        loss = compute_loss(y, tx, w.reshape((-1,1)))\n",
    "\n",
    "        return loss, ws\n",
    "    \n",
    "    return gradient_descent(y, tx, np.zeros((tx.shape[1],)), max_iters=100, gamma=0.7)"
   ],
   "outputs": [],
   "metadata": {}
  },
  {
   "cell_type": "markdown",
   "source": [
    "### Load the data\n",
    "Here we will reuse the dataset `height_weight_genders.csv` from previous exercise section to check the correctness of your implementation. Please compare it with your previous result."
   ],
   "metadata": {}
  },
  {
   "cell_type": "code",
   "execution_count": 67,
   "source": [
    "from helpers import *\n",
    "def test_your_least_squares():\n",
    "    height, weight, gender = load_data_from_ex02(sub_sample=False, add_outlier=False)\n",
    "    x, mean_x, std_x = standardize(height)\n",
    "    y, tx = build_model_data(x, weight)\n",
    "    \n",
    "    mse_ls, w_ls = least_squares(y, tx)\n",
    "    mse_ls_gd, w_ls_gd = least_squares_gd(y, tx) \n",
    "    print(f\"MSE loss: LS: {mse_ls:.3f}; LSGD: {mse_ls_gd:.3f}\")"
   ],
   "outputs": [],
   "metadata": {}
  },
  {
   "cell_type": "markdown",
   "source": [
    "Test it here"
   ],
   "metadata": {}
  },
  {
   "cell_type": "code",
   "execution_count": 68,
   "source": [
    "test_your_least_squares()"
   ],
   "outputs": [
    {
     "output_type": "stream",
     "name": "stdout",
     "text": [
      "MSE loss: LS: 15.386; LSGD: 15.386\n"
     ]
    }
   ],
   "metadata": {}
  },
  {
   "cell_type": "markdown",
   "source": [
    "## 1.2 Least squares with a linear basis function model\n",
    "Start from this section, we will use the dataset `dataEx3.csv`.\n",
    "\n",
    "### Implement polynomial basis functions"
   ],
   "metadata": {}
  },
  {
   "cell_type": "code",
   "execution_count": 69,
   "source": [
    "# load dataset\n",
    "x, y = load_data()\n",
    "print(\"shape of x {}\".format(x.shape))\n",
    "print(\"shape of y {}\".format(y.shape))"
   ],
   "outputs": [
    {
     "output_type": "stream",
     "name": "stdout",
     "text": [
      "shape of x (50,)\n",
      "shape of y (50,)\n"
     ]
    }
   ],
   "metadata": {
    "scrolled": true
   }
  },
  {
   "cell_type": "code",
   "execution_count": 71,
   "source": [
    "def build_poly(x, degree):\n",
    "    \"\"\"polynomial basis functions for input data x, for j=0 up to j=degree.\"\"\"\n",
    "    res = np.zeros((len(x), degree+1))\n",
    "    for i, xn in enumerate(x):\n",
    "        for d in range(degree+1):\n",
    "            res[i][d] = xn**d\n",
    "    return res"
   ],
   "outputs": [],
   "metadata": {
    "collapsed": true
   }
  },
  {
   "cell_type": "markdown",
   "source": [
    "Let us play with polynomial regression. Note that we will use your implemented function `compute_mse`. Please copy and paste your implementation from exercise02."
   ],
   "metadata": {}
  },
  {
   "cell_type": "code",
   "execution_count": 75,
   "source": [
    "from plots import *\n",
    "\n",
    "def polynomial_regression():\n",
    "    \"\"\"Constructing the polynomial basis function expansion of the data,\n",
    "       and then running least squares regression.\"\"\"\n",
    "    # define parameters\n",
    "    degrees = [1, 3, 7, 12]\n",
    "    \n",
    "    # define the structure of the figure\n",
    "    num_row = 2\n",
    "    num_col = 2\n",
    "    f, axs = plt.subplots(num_row, num_col)\n",
    "\n",
    "    for ind, degree in enumerate(degrees):\n",
    "        tx = build_poly(x, degree)\n",
    "        loss, w  = least_squares(y, tx)\n",
    "        rmse = np.sqrt(2*loss)\n",
    "\n",
    "        print(f\"Processing {ind+1}th experiment, degree={degree}, rmse={rmse}\")\n",
    "        # plot fit\n",
    "        plot_fitted_curve(y, x, w, degree, axs[ind // num_col][ind % num_col])\n",
    "    plt.tight_layout()\n",
    "    plt.savefig(\"visualize_polynomial_regression\")\n",
    "    plt.show()"
   ],
   "outputs": [],
   "metadata": {
    "collapsed": true
   }
  },
  {
   "cell_type": "markdown",
   "source": [
    "Run polynomial regression"
   ],
   "metadata": {}
  },
  {
   "cell_type": "code",
   "execution_count": 76,
   "source": [
    "polynomial_regression()"
   ],
   "outputs": [
    {
     "output_type": "stream",
     "name": "stdout",
     "text": [
      "Processing 1th experiment, degree=1, rmse=0.4718760796342188\n",
      "Processing 2th experiment, degree=3, rmse=0.258582776677375\n",
      "Processing 3th experiment, degree=7, rmse=0.24965870360907347\n",
      "Processing 4th experiment, degree=12, rmse=0.24337224835787005\n"
     ]
    },
    {
     "output_type": "display_data",
     "data": {
      "image/png": "[encoded data removed]",
      "text/plain": [
       "<Figure size 432x288 with 4 Axes>"
      ]
     },
     "metadata": {
      "needs_background": "light"
     }
    }
   ],
   "metadata": {}
  },
  {
   "cell_type": "markdown",
   "source": [
    "# 2 Evaluating model predication performance\n",
    "\n",
    "\n",
    "Let us show the train and test splits for various polynomial degrees. First of all, please fill in the function `split_data()`"
   ],
   "metadata": {}
  },
  {
   "cell_type": "code",
   "execution_count": 82,
   "source": [
    "def split_data(x, y, ratio, seed=1):\n",
    "    \"\"\"\n",
    "    split the dataset based on the split ratio. If ratio is 0.8 \n",
    "    you will have 80% of your data set dedicated to training \n",
    "    and the rest dedicated to testing\n",
    "    \"\"\"\n",
    "    # set seed\n",
    "    np.random.seed(seed)\n",
    "    N = len(y)\n",
    "    a = np.random.permutation(N)\n",
    "    split_ind = int(N*ratio)\n",
    "    a_train = a[:split_ind]\n",
    "    a_test = a[split_ind:]\n",
    "    return x[a_train], y[a_train], x[a_test], y[a_test]\n"
   ],
   "outputs": [],
   "metadata": {
    "collapsed": true
   }
  },
  {
   "cell_type": "markdown",
   "source": [
    "Then, test your `split_data` function below."
   ],
   "metadata": {}
  },
  {
   "cell_type": "code",
   "execution_count": 85,
   "source": [
    "def train_test_split_demo(x, y, degree, ratio, seed):\n",
    "    \"\"\"polynomial regression with different split ratios and different degrees.\"\"\"\n",
    "    x_train, y_train, x_test, y_test = split_data(x, y, ratio, seed)\n",
    "    \n",
    "    x_train_poly = build_poly(x_train, degree)\n",
    "    x_test_poly = build_poly(x_test, degree)\n",
    "    \n",
    "\n",
    "    _, w = least_squares(y_train, x_train_poly)\n",
    "\n",
    "    rmse_tr = compute_rmse(y_train, x_train_poly, w)\n",
    "    rmse_te = compute_rmse(y_test, x_test_poly, w)\n",
    "    print(\"proportion={p}, degree={d}, Training RMSE={tr:.3f}, Testing RMSE={te:.3f}\".format(\n",
    "          p=ratio, d=degree, tr=rmse_tr, te=rmse_te))\n"
   ],
   "outputs": [],
   "metadata": {
    "collapsed": true
   }
  },
  {
   "cell_type": "code",
   "execution_count": 86,
   "source": [
    "seed = 6\n",
    "degrees = [1, 3, 7, 12]\n",
    "split_ratios = [0.9, 0.5, 0.1]\n",
    "\n",
    "for split_ratio in split_ratios:\n",
    "    for degree in degrees:\n",
    "        train_test_split_demo(x, y, degree, split_ratio, seed)"
   ],
   "outputs": [
    {
     "output_type": "stream",
     "name": "stdout",
     "text": [
      "proportion=0.9, degree=1, Training RMSE=0.494, Testing RMSE=0.181\n",
      "proportion=0.9, degree=3, Training RMSE=0.264, Testing RMSE=0.206\n",
      "proportion=0.9, degree=7, Training RMSE=0.254, Testing RMSE=0.220\n",
      "proportion=0.9, degree=12, Training RMSE=0.242, Testing RMSE=0.254\n",
      "proportion=0.5, degree=1, Training RMSE=0.455, Testing RMSE=0.531\n",
      "proportion=0.5, degree=3, Training RMSE=0.239, Testing RMSE=0.296\n",
      "proportion=0.5, degree=7, Training RMSE=0.232, Testing RMSE=0.284\n",
      "proportion=0.5, degree=12, Training RMSE=0.205, Testing RMSE=1.531\n",
      "proportion=0.1, degree=1, Training RMSE=0.428, Testing RMSE=0.534\n",
      "proportion=0.1, degree=3, Training RMSE=0.085, Testing RMSE=0.460\n",
      "proportion=0.1, degree=7, Training RMSE=0.000, Testing RMSE=1.990\n",
      "proportion=0.1, degree=12, Training RMSE=0.000, Testing RMSE=2.911\n"
     ]
    }
   ],
   "metadata": {
    "collapsed": true
   }
  },
  {
   "cell_type": "markdown",
   "source": [
    "# 3 Ridge Regression\n",
    "Please fill in the function below."
   ],
   "metadata": {}
  },
  {
   "cell_type": "code",
   "execution_count": 87,
   "source": [
    "def ridge_regression(y, tx, lambda_):\n",
    "    \"\"\"implement ridge regression.\"\"\"\n",
    "    w = np.linalg.solve(tx.T @ tx + lambda_ * np.eye(tx.shape[1]), tx.T @ y)\n",
    "    e = y - tx@w\n",
    "    mse = np.squeeze(e.T @ e) / (2*len(y))\n",
    "    return mse, w"
   ],
   "outputs": [],
   "metadata": {
    "collapsed": true
   }
  },
  {
   "cell_type": "code",
   "execution_count": 104,
   "source": [
    "def ridge_regression_demo(x, y, degree, ratio, seed):\n",
    "    \"\"\"ridge regression demo.\"\"\"\n",
    "    # define parameter\n",
    "    lambdas = np.logspace(-5, 10, 50)\n",
    "    \n",
    "    x_train, y_train, x_test, y_test = split_data(x, y, ratio, seed)\n",
    "\n",
    "    x_train_poly = build_poly(x_train, degree)\n",
    "    x_test_poly = build_poly(x_test, degree)\n",
    "    \n",
    "    rmse_tr = []\n",
    "    rmse_te = []\n",
    "    for ind, lambda_ in enumerate(lambdas):\n",
    "        loss, w = ridge_regression(y_train, x_train_poly, lambda_)\n",
    "        rmse_tr.append(compute_rmse(y_train, x_train_poly, w))\n",
    "        rmse_te.append(compute_rmse(y_test, x_test_poly, w))\n",
    "        print(\"proportion={p}, degree={d}, lambda={l:.3f}, Training RMSE={tr:.3f}, Testing RMSE={te:.3f}\".format(\n",
    "               p=ratio, d=degree, l=lambda_, tr=rmse_tr[ind], te=rmse_te[ind]))\n",
    "        \n",
    "    # Plot the obtained results\n",
    "    plot_train_test(rmse_tr, rmse_te, lambdas, degree)\n"
   ],
   "outputs": [],
   "metadata": {
    "collapsed": true
   }
  },
  {
   "cell_type": "code",
   "execution_count": 105,
   "source": [
    "seed = 56\n",
    "degree = 7\n",
    "split_ratio = 0.5\n",
    "ridge_regression_demo(x, y, degree, split_ratio, seed)"
   ],
   "outputs": [
    {
     "output_type": "stream",
     "name": "stdout",
     "text": [
      "proportion=0.5, degree=7, lambda=0.000, Training RMSE=0.227, Testing RMSE=0.338\n",
      "proportion=0.5, degree=7, lambda=0.000, Training RMSE=0.227, Testing RMSE=0.338\n",
      "proportion=0.5, degree=7, lambda=0.000, Training RMSE=0.227, Testing RMSE=0.338\n",
      "proportion=0.5, degree=7, lambda=0.000, Training RMSE=0.227, Testing RMSE=0.338\n",
      "proportion=0.5, degree=7, lambda=0.000, Training RMSE=0.227, Testing RMSE=0.338\n",
      "proportion=0.5, degree=7, lambda=0.000, Training RMSE=0.227, Testing RMSE=0.338\n",
      "proportion=0.5, degree=7, lambda=0.001, Training RMSE=0.227, Testing RMSE=0.337\n",
      "proportion=0.5, degree=7, lambda=0.001, Training RMSE=0.227, Testing RMSE=0.337\n",
      "proportion=0.5, degree=7, lambda=0.003, Training RMSE=0.227, Testing RMSE=0.336\n",
      "proportion=0.5, degree=7, lambda=0.006, Training RMSE=0.227, Testing RMSE=0.335\n",
      "proportion=0.5, degree=7, lambda=0.012, Training RMSE=0.228, Testing RMSE=0.335\n",
      "proportion=0.5, degree=7, lambda=0.023, Training RMSE=0.228, Testing RMSE=0.334\n",
      "proportion=0.5, degree=7, lambda=0.047, Training RMSE=0.229, Testing RMSE=0.332\n",
      "proportion=0.5, degree=7, lambda=0.095, Training RMSE=0.230, Testing RMSE=0.326\n",
      "proportion=0.5, degree=7, lambda=0.193, Training RMSE=0.231, Testing RMSE=0.316\n",
      "proportion=0.5, degree=7, lambda=0.391, Training RMSE=0.232, Testing RMSE=0.300\n",
      "proportion=0.5, degree=7, lambda=0.791, Training RMSE=0.236, Testing RMSE=0.283\n",
      "proportion=0.5, degree=7, lambda=1.600, Training RMSE=0.244, Testing RMSE=0.275\n",
      "proportion=0.5, degree=7, lambda=3.237, Training RMSE=0.257, Testing RMSE=0.287\n",
      "proportion=0.5, degree=7, lambda=6.551, Training RMSE=0.278, Testing RMSE=0.322\n",
      "proportion=0.5, degree=7, lambda=13.257, Training RMSE=0.302, Testing RMSE=0.369\n",
      "proportion=0.5, degree=7, lambda=26.827, Training RMSE=0.323, Testing RMSE=0.412\n",
      "proportion=0.5, degree=7, lambda=54.287, Training RMSE=0.337, Testing RMSE=0.444\n",
      "proportion=0.5, degree=7, lambda=109.854, Training RMSE=0.348, Testing RMSE=0.469\n",
      "proportion=0.5, degree=7, lambda=222.300, Training RMSE=0.358, Testing RMSE=0.492\n",
      "proportion=0.5, degree=7, lambda=449.843, Training RMSE=0.371, Testing RMSE=0.513\n",
      "proportion=0.5, degree=7, lambda=910.298, Training RMSE=0.384, Testing RMSE=0.532\n",
      "proportion=0.5, degree=7, lambda=1842.070, Training RMSE=0.394, Testing RMSE=0.545\n",
      "proportion=0.5, degree=7, lambda=3727.594, Training RMSE=0.401, Testing RMSE=0.554\n",
      "proportion=0.5, degree=7, lambda=7543.120, Training RMSE=0.405, Testing RMSE=0.559\n",
      "proportion=0.5, degree=7, lambda=15264.180, Training RMSE=0.408, Testing RMSE=0.561\n",
      "proportion=0.5, degree=7, lambda=30888.436, Training RMSE=0.409, Testing RMSE=0.562\n",
      "proportion=0.5, degree=7, lambda=62505.519, Training RMSE=0.409, Testing RMSE=0.563\n",
      "proportion=0.5, degree=7, lambda=126485.522, Training RMSE=0.410, Testing RMSE=0.563\n",
      "proportion=0.5, degree=7, lambda=255954.792, Training RMSE=0.410, Testing RMSE=0.563\n",
      "proportion=0.5, degree=7, lambda=517947.468, Training RMSE=0.410, Testing RMSE=0.563\n",
      "proportion=0.5, degree=7, lambda=1048113.134, Training RMSE=0.410, Testing RMSE=0.563\n",
      "proportion=0.5, degree=7, lambda=2120950.888, Training RMSE=0.410, Testing RMSE=0.563\n",
      "proportion=0.5, degree=7, lambda=4291934.260, Training RMSE=0.411, Testing RMSE=0.564\n",
      "proportion=0.5, degree=7, lambda=8685113.738, Training RMSE=0.415, Testing RMSE=0.566\n",
      "proportion=0.5, degree=7, lambda=17575106.249, Training RMSE=0.426, Testing RMSE=0.572\n",
      "proportion=0.5, degree=7, lambda=35564803.062, Training RMSE=0.452, Testing RMSE=0.585\n",
      "proportion=0.5, degree=7, lambda=71968567.300, Training RMSE=0.495, Testing RMSE=0.608\n",
      "proportion=0.5, degree=7, lambda=145634847.750, Training RMSE=0.544, Testing RMSE=0.634\n",
      "proportion=0.5, degree=7, lambda=294705170.255, Training RMSE=0.585, Testing RMSE=0.658\n",
      "proportion=0.5, degree=7, lambda=596362331.659, Training RMSE=0.612, Testing RMSE=0.673\n",
      "proportion=0.5, degree=7, lambda=1206792640.639, Training RMSE=0.628, Testing RMSE=0.683\n",
      "proportion=0.5, degree=7, lambda=2442053094.549, Training RMSE=0.636, Testing RMSE=0.688\n",
      "proportion=0.5, degree=7, lambda=4941713361.324, Training RMSE=0.641, Testing RMSE=0.690\n",
      "proportion=0.5, degree=7, lambda=10000000000.000, Training RMSE=0.643, Testing RMSE=0.691\n"
     ]
    },
    {
     "output_type": "display_data",
     "data": {
      "image/png": "[encoded data removed]",
      "text/plain": [
       "<Figure size 432x288 with 1 Axes>"
      ]
     },
     "metadata": {
      "needs_background": "light"
     }
    }
   ],
   "metadata": {
    "collapsed": true
   }
  },
  {
   "cell_type": "code",
   "execution_count": null,
   "source": [],
   "outputs": [],
   "metadata": {}
  }
 ],
 "metadata": {
  "anaconda-cloud": {},
  "kernelspec": {
   "name": "python3",
   "display_name": "Python 3.8.10 64-bit"
  },
  "language_info": {
   "codemirror_mode": {
    "name": "ipython",
    "version": 3
   },
   "file_extension": ".py",
   "mimetype": "text/x-python",
   "name": "python",
   "nbconvert_exporter": "python",
   "pygments_lexer": "ipython3",
   "version": "3.8.10"
  },
  "interpreter": {
   "hash": "31f2aee4e71d21fbe5cf8b01ff0e069b9275f58929596ceb00d14d90e3e16cd6"
  }
 },
 "nbformat": 4,
 "nbformat_minor": 1
}